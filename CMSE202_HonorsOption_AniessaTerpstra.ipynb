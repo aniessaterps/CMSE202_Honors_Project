{
 "cells": [
  {
   "cell_type": "markdown",
   "metadata": {},
   "source": [
    "#### CMSE 202 Final Project\n",
    "### &#9989; Aniessa Terpstra\n",
    "### &#9989; Section_003\n",
    "#### &#9989; 04/10/2022"
   ]
  },
  {
   "cell_type": "markdown",
   "metadata": {},
   "source": [
    "# ___Modeling the retirement funds of a neighborhood___"
   ]
  },
  {
   "cell_type": "markdown",
   "metadata": {},
   "source": [
    "## Background and Motivation"
   ]
  },
  {
   "cell_type": "markdown",
   "metadata": {},
   "source": [
    "_(Provide context for the problem.  **Clearly state the question(s) you set\n",
    "out to answer.**)_"
   ]
  },
  {
   "cell_type": "markdown",
   "metadata": {},
   "source": [
    "## Methodology"
   ]
  },
  {
   "cell_type": "markdown",
   "metadata": {},
   "source": [
    "_(How did you go about answering your question(s)? Most of your code will be\n",
    "contained in this section.)_"
   ]
  },
  {
   "cell_type": "code",
   "execution_count": 3,
   "metadata": {},
   "outputs": [],
   "source": [
    "import matplotlib.pyplot as plt\n",
    "import numpy as np\n",
    "import pandas as pd\n",
    "import random"
   ]
  },
  {
   "cell_type": "code",
   "execution_count": 50,
   "metadata": {},
   "outputs": [],
   "source": [
    "class retirement():\n",
    "    def __init__(self,start,rate,years,salary,percentage):\n",
    "        self.start = start\n",
    "        self.rate = rate\n",
    "        self.years = years\n",
    "        self.salary = salary\n",
    "        self.percentage = percentage\n",
    "        self.contributions = []\n",
    "        self.time = []\n",
    "        self.retirement = []\n",
    "        \n",
    "    def plot(self):\n",
    "        plt.plot(self.time,self.retirement)\n",
    "        \n",
    "    def update_salary(self):\n",
    "        self.salary += self.salary*.03\n",
    "        \n",
    "    def get_contributions(self):\n",
    "        for i in range(self.years):\n",
    "            add = self.salary*.75*self.percentage\n",
    "            self.contributions.append(add)\n",
    "            self.update_salary()\n",
    "        \n",
    "    def divorce(self):\n",
    "        self.start = self.start/2\n",
    "        self.retirement.append(self.start)\n",
    "    \n",
    "    def buy_house(self,down_payment):\n",
    "        self.start -= down_payment\n",
    "        self.retirement.append(self.start)\n",
    "    \n",
    "    def unemployed(self,monthly_cost):\n",
    "        self.start -= monthly_cost\n",
    "        self.retirement.append(self.start)\n",
    "                \n",
    "    def update(self,divorce_age=\"Nan\",house_age=\"Nan\",down_payment=\"Nan\",\n",
    "               unemployment_start=0,unemployment_end=0,monthly_cost=\"Nan\"):\n",
    "        for i in range(len(self.contributions)):\n",
    "            if i == divorce_age:\n",
    "                self.divorce()\n",
    "                self.time.append(i)\n",
    "                \n",
    "            if i == house_age:\n",
    "                self.buy_house(down_payment)\n",
    "                self.time.append(i)\n",
    "                \n",
    "            if (i>unemployment_start) & (i<unemployment_end):\n",
    "                self.unemployed(monthly_cost)\n",
    "                self.time.append(i)\n",
    "                \n",
    "            else:\n",
    "                funds = self.contributions[i] + self.contributions[i]*self.rate\n",
    "                self.start += funds\n",
    "                self.retirement.append(self.start)\n",
    "                self.time.append(i)\n",
    "        self.plot()"
   ]
  },
  {
   "cell_type": "code",
   "execution_count": 52,
   "metadata": {},
   "outputs": [
    {
     "data": {
      "image/png": "[encoded data removed]",
      "text/plain": [
       "<Figure size 432x288 with 1 Axes>"
      ]
     },
     "metadata": {
      "needs_background": "light"
     },
     "output_type": "display_data"
    }
   ],
   "source": [
    "aniessa = retirement(0,.005,40,70000,.1)\n",
    "aniessa.get_contributions()\n",
    "aniessa.update(divorce_age=11,house_age=5,down_payment=50000,unemployment_start=18,unemployment_end=28,monthly_cost=2236)"
   ]
  },
  {
   "cell_type": "markdown",
   "metadata": {},
   "source": [
    "## Results"
   ]
  },
  {
   "cell_type": "markdown",
   "metadata": {},
   "source": [
    "_(What did you find when you carried out your methods? Some of your code related to\n",
    "presenting results/figures/data may be replicated from the methods section or may only be present in\n",
    "this section. All of the plots that you plan on using for your presentation should be present in this\n",
    "section)_"
   ]
  },
  {
   "cell_type": "markdown",
   "metadata": {},
   "source": [
    "## Discussion and Conclusion"
   ]
  },
  {
   "cell_type": "markdown",
   "metadata": {},
   "source": [
    "_(What did you learn from your results? What obstacles did you run into? What would you do differently next time? Clearly provide quantitative answers to your question(s)?  At least one of your questions should be answered with numbers.  That is, it is not sufficient to answer \"yes\" or \"no\", but rather to say something quantitative such as variable 1 increased roughly 10% for every 1 year increase in variable 2.)_"
   ]
  },
  {
   "cell_type": "markdown",
   "metadata": {},
   "source": [
    "### References"
   ]
  },
  {
   "cell_type": "markdown",
   "metadata": {},
   "source": [
    "_(List the source(s) for any data and/or literature cited in your project.  Ideally, this should be formatted using a formal citation format (MLA or APA or other, your choice!).   Multiple free online citation generators are available such as <a href=\"http://www.easybib.com/style\">http://www.easybib.com/style</a>. **Important:** if you use **any** code that you find on the internet for your project you **must** cite it or you risk losing most/all of the points for you project.)_"
   ]
  }
 ],
 "metadata": {
  "kernelspec": {
   "display_name": "Python 3",
   "language": "python",
   "name": "python3"
  },
  "language_info": {
   "codemirror_mode": {
    "name": "ipython",
    "version": 3
   },
   "file_extension": ".py",
   "mimetype": "text/x-python",
   "name": "python",
   "nbconvert_exporter": "python",
   "pygments_lexer": "ipython3",
   "version": "3.8.8"
  }
 },
 "nbformat": 4,
 "nbformat_minor": 4
}
